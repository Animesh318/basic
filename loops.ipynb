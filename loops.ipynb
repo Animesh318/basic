{
 "cells": [
  {
   "cell_type": "code",
   "execution_count": null,
   "metadata": {},
   "outputs": [],
   "source": [
    "# bad code\n",
    "x = int(input('X:'))\n",
    "y = int(input('Y:'))\n",
    "s = x + y\n",
    "print(\"total\", s)\n",
    "x = int(input('X:'))\n",
    "y = int(input('Y:'))\n",
    "s = x + y\n",
    "print(\"total\", s)\n",
    "x = int(input('X:'))\n",
    "y = int(input('Y:'))\n",
    "s = x + y\n",
    "print(\"total\", s)\n",
    "x = int(input('X:'))\n",
    "y = int(input('Y:'))\n",
    "s = x + y\n",
    "print(\"total\", s)\n",
    "\n"
   ]
  },
  {
   "cell_type": "markdown",
   "metadata": {},
   "source": [
    "### loops"
   ]
  },
  {
   "cell_type": "code",
   "execution_count": 1,
   "metadata": {},
   "outputs": [
    {
     "name": "stdout",
     "output_type": "stream",
     "text": [
      "Loop code\n",
      "Loop code\n",
      "Loop code\n",
      "Loop code\n",
      "Loop code\n"
     ]
    }
   ],
   "source": [
    "for i in range(5):\n",
    "    print('Loop code')"
   ]
  },
  {
   "cell_type": "code",
   "execution_count": 2,
   "metadata": {},
   "outputs": [
    {
     "name": "stdout",
     "output_type": "stream",
     "text": [
      "total 9\n",
      "total 49\n",
      "total 88\n",
      "total 41\n",
      "total 13\n"
     ]
    }
   ],
   "source": [
    "for i in range(5):\n",
    "    x = int(input('X:'))\n",
    "    y = int(input('Y:'))\n",
    "    s = x + y\n",
    "    print(\"total\", s)"
   ]
  },
  {
   "cell_type": "code",
   "execution_count": 3,
   "metadata": {},
   "outputs": [
    {
     "name": "stdout",
     "output_type": "stream",
     "text": [
      "0 1 2 3 4 5 6 7 8 9 "
     ]
    }
   ],
   "source": [
    "for i in range(10):\n",
    "    print(i, end=' ')"
   ]
  },
  {
   "cell_type": "code",
   "execution_count": 4,
   "metadata": {},
   "outputs": [
    {
     "name": "stdout",
     "output_type": "stream",
     "text": [
      "5 6 7 8 9 10 11 12 13 14 15 16 17 18 19 20 21 22 23 24 "
     ]
    }
   ],
   "source": [
    "for i in range(5, 25):\n",
    "    print(i, end=' ')"
   ]
  },
  {
   "cell_type": "code",
   "execution_count": 5,
   "metadata": {},
   "outputs": [
    {
     "name": "stdout",
     "output_type": "stream",
     "text": [
      "5 7 9 11 13 15 17 19 21 23 25 "
     ]
    }
   ],
   "source": [
    "for i in range(5, 26, 2):\n",
    "    print(i, end=' ')"
   ]
  },
  {
   "cell_type": "code",
   "execution_count": 6,
   "metadata": {},
   "outputs": [
    {
     "name": "stdout",
     "output_type": "stream",
     "text": [
      "5 10 15 20 25 30 35 40 45 50 55 60 65 70 75 80 85 90 95 100 "
     ]
    }
   ],
   "source": [
    "for i in range(5, 101 ,5):\n",
    "    print(i, end=' ')"
   ]
  },
  {
   "cell_type": "code",
   "execution_count": 7,
   "metadata": {},
   "outputs": [
    {
     "name": "stdout",
     "output_type": "stream",
     "text": [
      "10 9 8 7 6 5 4 3 2 1 "
     ]
    }
   ],
   "source": [
    "for i in range(10, 0, -1):\n",
    "    print(i, end=' ')"
   ]
  },
  {
   "cell_type": "code",
   "execution_count": 9,
   "metadata": {},
   "outputs": [
    {
     "name": "stdout",
     "output_type": "stream",
     "text": [
      "TOTAL 35\n",
      "TOTAL 105\n",
      "TOTAL 210\n",
      "TOTAL 350\n",
      "TOTAL 525\n",
      "TOTAL 735\n",
      "TOTAL 980\n",
      "TOTAL 1260\n",
      "TOTAL 1575\n",
      "TOTAL 1925\n",
      "TOTAL 2310\n",
      "TOTAL 2730\n",
      "TOTAL 3185\n",
      "TOTAL 3675\n",
      "TOTAL 4200\n",
      "TOTAL 4760\n",
      "TOTAL 5355\n",
      "TOTAL 5985\n",
      "TOTAL 6650\n",
      "TOTAL 7350\n",
      "TOTAL 8085\n",
      "TOTAL 8855\n",
      "TOTAL 9660\n",
      "TOTAL 10500\n",
      "TOTAL 11375\n",
      "TOTAL 12285\n",
      "TOTAL 13230\n",
      "TOTAL 14210\n"
     ]
    }
   ],
   "source": [
    "total = 0\n",
    "for i in range(1, 1000):\n",
    "    if i % 5 == 0 and i % 7 == 0:\n",
    "        total+= i\n",
    "        print(\"TOTAL\" ,total)"
   ]
  },
  {
   "cell_type": "code",
   "execution_count": 11,
   "metadata": {},
   "outputs": [
    {
     "name": "stdout",
     "output_type": "stream",
     "text": [
      "TOTAL 35\n",
      "TOTAL 105\n",
      "TOTAL 210\n",
      "TOTAL 350\n",
      "TOTAL 525\n",
      "TOTAL 735\n",
      "TOTAL 980\n",
      "TOTAL 1260\n",
      "TOTAL 1575\n",
      "TOTAL 1925\n",
      "TOTAL 2310\n",
      "TOTAL 2730\n",
      "TOTAL 3185\n",
      "TOTAL 3675\n",
      "TOTAL 4200\n",
      "TOTAL 4760\n",
      "TOTAL 5355\n",
      "TOTAL 5985\n",
      "TOTAL 6650\n",
      "TOTAL 7350\n",
      "TOTAL 8085\n",
      "TOTAL 8855\n",
      "TOTAL 9660\n",
      "TOTAL 10500\n",
      "TOTAL 11375\n",
      "TOTAL 12285\n",
      "TOTAL 13230\n",
      "TOTAL 14210\n",
      "TOTAL 15225\n",
      "TOTAL 16275\n",
      "TOTAL 17360\n",
      "TOTAL 18480\n",
      "TOTAL 19635\n",
      "TOTAL 20825\n",
      "TOTAL 22050\n",
      "TOTAL 23310\n",
      "TOTAL 24605\n",
      "TOTAL 25935\n",
      "TOTAL 27300\n",
      "TOTAL 28700\n",
      "TOTAL 30135\n",
      "TOTAL 31605\n",
      "TOTAL 33110\n",
      "TOTAL 34650\n",
      "TOTAL 36225\n",
      "TOTAL 37835\n",
      "TOTAL 39480\n",
      "TOTAL 41160\n",
      "TOTAL 42875\n",
      "TOTAL 44625\n",
      "TOTAL 46410\n",
      "TOTAL 48230\n",
      "TOTAL 50085\n",
      "TOTAL 51975\n",
      "TOTAL 53900\n",
      "TOTAL 55860\n",
      "TOTAL 57855\n",
      "TOTAL 59885\n",
      "TOTAL 61950\n",
      "TOTAL 64050\n",
      "TOTAL 66185\n",
      "TOTAL 68355\n",
      "TOTAL 70560\n",
      "TOTAL 72800\n",
      "TOTAL 75075\n",
      "TOTAL 77385\n",
      "TOTAL 79730\n",
      "TOTAL 82110\n",
      "TOTAL 84525\n",
      "TOTAL 86975\n",
      "TOTAL 89460\n",
      "TOTAL 91980\n",
      "TOTAL 94535\n",
      "TOTAL 97125\n",
      "TOTAL 99750\n",
      "TOTAL 102410\n",
      "TOTAL 105105\n",
      "TOTAL 107835\n",
      "TOTAL 110600\n",
      "TOTAL 113400\n",
      "TOTAL 116235\n",
      "TOTAL 119105\n",
      "TOTAL 122010\n",
      "TOTAL 124950\n",
      "TOTAL 127925\n",
      "TOTAL 130935\n",
      "TOTAL 133980\n",
      "TOTAL 137060\n",
      "TOTAL 140175\n",
      "TOTAL 143325\n",
      "TOTAL 146510\n",
      "TOTAL 149730\n",
      "TOTAL 152985\n",
      "TOTAL 156275\n",
      "TOTAL 159600\n",
      "TOTAL 162960\n",
      "TOTAL 166355\n",
      "TOTAL 169785\n",
      "TOTAL 173250\n",
      "TOTAL 176750\n",
      "TOTAL 180285\n",
      "TOTAL 183855\n",
      "TOTAL 187460\n",
      "TOTAL 191100\n",
      "TOTAL 194775\n",
      "TOTAL 198485\n",
      "TOTAL 202230\n",
      "TOTAL 206010\n",
      "TOTAL 209825\n",
      "TOTAL 213675\n",
      "TOTAL 217560\n",
      "TOTAL 221480\n",
      "TOTAL 225435\n",
      "TOTAL 229425\n",
      "TOTAL 233450\n",
      "TOTAL 237510\n",
      "TOTAL 241605\n",
      "TOTAL 245735\n",
      "TOTAL 249900\n",
      "TOTAL 254100\n",
      "TOTAL 258335\n",
      "TOTAL 262605\n",
      "TOTAL 266910\n",
      "TOTAL 271250\n",
      "TOTAL 275625\n",
      "TOTAL 280035\n",
      "TOTAL 284480\n",
      "TOTAL 288960\n",
      "TOTAL 293475\n",
      "TOTAL 298025\n",
      "TOTAL 302610\n",
      "TOTAL 307230\n",
      "TOTAL 311885\n",
      "TOTAL 316575\n",
      "TOTAL 321300\n",
      "TOTAL 326060\n",
      "TOTAL 330855\n",
      "TOTAL 335685\n",
      "TOTAL 340550\n",
      "TOTAL 345450\n",
      "TOTAL 350385\n",
      "TOTAL 355355\n",
      "TOTAL 360360\n",
      "TOTAL 365400\n",
      "TOTAL 370475\n",
      "TOTAL 375585\n",
      "TOTAL 380730\n",
      "TOTAL 385910\n",
      "TOTAL 391125\n",
      "TOTAL 396375\n",
      "TOTAL 401660\n",
      "TOTAL 406980\n",
      "TOTAL 412335\n",
      "TOTAL 417725\n",
      "TOTAL 423150\n",
      "TOTAL 428610\n",
      "TOTAL 434105\n",
      "TOTAL 439635\n",
      "TOTAL 445200\n",
      "TOTAL 450800\n",
      "TOTAL 456435\n",
      "TOTAL 462105\n",
      "TOTAL 467810\n",
      "TOTAL 473550\n",
      "TOTAL 479325\n",
      "TOTAL 485135\n",
      "TOTAL 490980\n",
      "TOTAL 496860\n",
      "TOTAL 502775\n",
      "TOTAL 508725\n",
      "TOTAL 514710\n",
      "TOTAL 520730\n",
      "TOTAL 526785\n",
      "TOTAL 532875\n",
      "TOTAL 539000\n",
      "TOTAL 545160\n",
      "TOTAL 551355\n",
      "TOTAL 557585\n",
      "TOTAL 563850\n",
      "TOTAL 570150\n",
      "TOTAL 576485\n",
      "TOTAL 582855\n",
      "TOTAL 589260\n",
      "TOTAL 595700\n",
      "TOTAL 602175\n",
      "TOTAL 608685\n",
      "TOTAL 615230\n",
      "TOTAL 621810\n",
      "TOTAL 628425\n",
      "TOTAL 635075\n",
      "TOTAL 641760\n",
      "TOTAL 648480\n",
      "TOTAL 655235\n",
      "TOTAL 662025\n",
      "TOTAL 668850\n",
      "TOTAL 675710\n",
      "TOTAL 682605\n",
      "TOTAL 689535\n",
      "TOTAL 696500\n",
      "TOTAL 703500\n",
      "TOTAL 710535\n",
      "TOTAL 717605\n",
      "TOTAL 724710\n",
      "TOTAL 731850\n",
      "TOTAL 739025\n",
      "TOTAL 746235\n",
      "TOTAL 753480\n",
      "TOTAL 760760\n",
      "TOTAL 768075\n",
      "TOTAL 775425\n",
      "TOTAL 782810\n",
      "TOTAL 790230\n",
      "TOTAL 797685\n",
      "TOTAL 805175\n",
      "TOTAL 812700\n",
      "TOTAL 820260\n",
      "TOTAL 827855\n",
      "TOTAL 835485\n",
      "TOTAL 843150\n",
      "TOTAL 850850\n",
      "TOTAL 858585\n",
      "TOTAL 866355\n",
      "TOTAL 874160\n",
      "TOTAL 882000\n",
      "TOTAL 889875\n",
      "TOTAL 897785\n",
      "TOTAL 905730\n",
      "TOTAL 913710\n",
      "TOTAL 921725\n",
      "TOTAL 929775\n",
      "TOTAL 937860\n",
      "TOTAL 945980\n",
      "TOTAL 954135\n",
      "TOTAL 962325\n",
      "TOTAL 970550\n",
      "TOTAL 978810\n",
      "TOTAL 987105\n",
      "TOTAL 995435\n",
      "TOTAL 1003800\n",
      "TOTAL 1012200\n",
      "TOTAL 1020635\n",
      "TOTAL 1029105\n",
      "TOTAL 1037610\n",
      "TOTAL 1046150\n",
      "TOTAL 1054725\n",
      "TOTAL 1063335\n",
      "TOTAL 1071980\n",
      "TOTAL 1080660\n",
      "TOTAL 1089375\n",
      "TOTAL 1098125\n",
      "TOTAL 1106910\n",
      "TOTAL 1115730\n",
      "TOTAL 1124585\n",
      "TOTAL 1133475\n",
      "TOTAL 1142400\n",
      "TOTAL 1151360\n",
      "TOTAL 1160355\n",
      "TOTAL 1169385\n",
      "TOTAL 1178450\n",
      "TOTAL 1187550\n",
      "TOTAL 1196685\n",
      "TOTAL 1205855\n",
      "TOTAL 1215060\n",
      "TOTAL 1224300\n",
      "TOTAL 1233575\n",
      "TOTAL 1242885\n",
      "TOTAL 1252230\n",
      "TOTAL 1261610\n",
      "TOTAL 1271025\n",
      "TOTAL 1280475\n",
      "TOTAL 1289960\n",
      "TOTAL 1299480\n",
      "TOTAL 1309035\n",
      "TOTAL 1318625\n",
      "TOTAL 1328250\n",
      "TOTAL 1337910\n",
      "TOTAL 1347605\n",
      "TOTAL 1357335\n",
      "TOTAL 1367100\n",
      "TOTAL 1376900\n",
      "TOTAL 1386735\n",
      "TOTAL 1396605\n",
      "TOTAL 1406510\n",
      "TOTAL 1416450\n",
      "TOTAL 1426425\n",
      "TOTAL 1436435\n",
      "TOTAL 1446480\n",
      "TOTAL 1456560\n",
      "TOTAL 1466675\n",
      "TOTAL 1476825\n",
      "TOTAL 1487010\n",
      "TOTAL 1497230\n",
      "TOTAL 1507485\n",
      "TOTAL 1517775\n",
      "TOTAL 1528100\n",
      "TOTAL 1538460\n",
      "TOTAL 1548855\n",
      "TOTAL 1559285\n",
      "TOTAL 1569750\n",
      "TOTAL 1580250\n",
      "TOTAL 1590785\n",
      "TOTAL 1601355\n",
      "TOTAL 1611960\n",
      "TOTAL 1622600\n",
      "TOTAL 1633275\n",
      "TOTAL 1643985\n",
      "TOTAL 1654730\n",
      "TOTAL 1665510\n",
      "TOTAL 1676325\n",
      "TOTAL 1687175\n",
      "TOTAL 1698060\n",
      "TOTAL 1708980\n",
      "TOTAL 1719935\n",
      "TOTAL 1730925\n",
      "TOTAL 1741950\n",
      "TOTAL 1753010\n",
      "TOTAL 1764105\n",
      "TOTAL 1775235\n",
      "TOTAL 1786400\n",
      "TOTAL 1797600\n",
      "TOTAL 1808835\n",
      "TOTAL 1820105\n",
      "TOTAL 1831410\n",
      "TOTAL 1842750\n",
      "TOTAL 1854125\n",
      "TOTAL 1865535\n",
      "TOTAL 1876980\n",
      "TOTAL 1888460\n",
      "TOTAL 1899975\n",
      "TOTAL 1911525\n",
      "TOTAL 1923110\n",
      "TOTAL 1934730\n",
      "TOTAL 1946385\n",
      "TOTAL 1958075\n",
      "TOTAL 1969800\n",
      "TOTAL 1981560\n",
      "TOTAL 1993355\n",
      "TOTAL 2005185\n",
      "TOTAL 2017050\n",
      "TOTAL 2028950\n",
      "TOTAL 2040885\n",
      "TOTAL 2052855\n",
      "TOTAL 2064860\n",
      "TOTAL 2076900\n",
      "TOTAL 2088975\n",
      "TOTAL 2101085\n",
      "TOTAL 2113230\n",
      "TOTAL 2125410\n",
      "TOTAL 2137625\n",
      "TOTAL 2149875\n",
      "TOTAL 2162160\n",
      "TOTAL 2174480\n",
      "TOTAL 2186835\n",
      "TOTAL 2199225\n",
      "TOTAL 2211650\n",
      "TOTAL 2224110\n",
      "TOTAL 2236605\n",
      "TOTAL 2249135\n",
      "TOTAL 2261700\n",
      "TOTAL 2274300\n",
      "TOTAL 2286935\n",
      "TOTAL 2299605\n",
      "TOTAL 2312310\n",
      "TOTAL 2325050\n",
      "TOTAL 2337825\n",
      "TOTAL 2350635\n",
      "TOTAL 2363480\n",
      "TOTAL 2376360\n",
      "TOTAL 2389275\n",
      "TOTAL 2402225\n",
      "TOTAL 2415210\n",
      "TOTAL 2428230\n",
      "TOTAL 2441285\n",
      "TOTAL 2454375\n",
      "TOTAL 2467500\n",
      "TOTAL 2480660\n",
      "TOTAL 2493855\n",
      "TOTAL 2507085\n",
      "TOTAL 2520350\n",
      "TOTAL 2533650\n",
      "TOTAL 2546985\n",
      "TOTAL 2560355\n",
      "TOTAL 2573760\n",
      "TOTAL 2587200\n",
      "TOTAL 2600675\n",
      "TOTAL 2614185\n",
      "TOTAL 2627730\n",
      "TOTAL 2641310\n",
      "TOTAL 2654925\n",
      "TOTAL 2668575\n",
      "TOTAL 2682260\n",
      "TOTAL 2695980\n",
      "TOTAL 2709735\n",
      "TOTAL 2723525\n",
      "TOTAL 2737350\n",
      "TOTAL 2751210\n",
      "TOTAL 2765105\n",
      "TOTAL 2779035\n",
      "TOTAL 2793000\n",
      "TOTAL 2807000\n",
      "TOTAL 2821035\n",
      "TOTAL 2835105\n",
      "TOTAL 2849210\n",
      "TOTAL 2863350\n",
      "TOTAL 2877525\n",
      "TOTAL 2891735\n",
      "TOTAL 2905980\n",
      "TOTAL 2920260\n",
      "TOTAL 2934575\n",
      "TOTAL 2948925\n",
      "TOTAL 2963310\n",
      "TOTAL 2977730\n",
      "TOTAL 2992185\n",
      "TOTAL 3006675\n",
      "TOTAL 3021200\n",
      "TOTAL 3035760\n",
      "TOTAL 3050355\n",
      "TOTAL 3064985\n",
      "TOTAL 3079650\n",
      "TOTAL 3094350\n",
      "TOTAL 3109085\n",
      "TOTAL 3123855\n",
      "TOTAL 3138660\n",
      "TOTAL 3153500\n",
      "TOTAL 3168375\n",
      "TOTAL 3183285\n",
      "TOTAL 3198230\n",
      "TOTAL 3213210\n"
     ]
    }
   ],
   "source": [
    "total = 0\n",
    "for i in range(1, 15000):\n",
    "    if i % 5 == 0 and i % 7 == 0:\n",
    "        total+= i\n",
    "        print(\"TOTAL\" ,total)"
   ]
  },
  {
   "cell_type": "code",
   "execution_count": 12,
   "metadata": {},
   "outputs": [
    {
     "data": {
      "text/plain": [
       "56242500"
      ]
     },
     "execution_count": 12,
     "metadata": {},
     "output_type": "execute_result"
    }
   ],
   "source": [
    "sum(range(2, 15000, 2))\n"
   ]
  },
  {
   "cell_type": "code",
   "execution_count": 13,
   "metadata": {},
   "outputs": [
    {
     "name": "stdout",
     "output_type": "stream",
     "text": [
      "A\n",
      "l\n",
      "e\n",
      "x\n",
      "a\n",
      "n\n",
      "d\n",
      "e\n",
      "r\n",
      " \n",
      "M\n",
      "a\n",
      "x\n",
      "i\n",
      "m\n",
      "u\n",
      "s\n"
     ]
    }
   ],
   "source": [
    "name = \"Alexander Maximus\"\n",
    "for char in name:\n",
    "    print(char)"
   ]
  },
  {
   "cell_type": "code",
   "execution_count": 14,
   "metadata": {},
   "outputs": [
    {
     "name": "stdout",
     "output_type": "stream",
     "text": [
      "We\n",
      "are\n",
      "going\n",
      "to\n",
      "eat\n",
      "the\n",
      "Pizza\n"
     ]
    }
   ],
   "source": [
    "words = [\"We\",\"are\",\"going\",\"to\",\"eat\",\"the\",\"Pizza\"]\n",
    "for word in words:\n",
    "    print(word)"
   ]
  },
  {
   "cell_type": "code",
   "execution_count": 15,
   "metadata": {},
   "outputs": [
    {
     "name": "stdout",
     "output_type": "stream",
     "text": [
      "We 2\n",
      "are 3\n",
      "going 5\n",
      "to 2\n",
      "eat 3\n",
      "the 3\n",
      "Pizza 5\n"
     ]
    }
   ],
   "source": [
    "for word in words:\n",
    "    print(word, len(word))"
   ]
  },
  {
   "cell_type": "code",
   "execution_count": 16,
   "metadata": {},
   "outputs": [
    {
     "name": "stdout",
     "output_type": "stream",
     "text": [
      "[1, 2, 3]\n",
      "[4, 5, 6]\n",
      "[7, 8, 9]\n"
     ]
    }
   ],
   "source": [
    "data = [[1,2,3], [4,5,6], [7,8,9]]\n",
    "for item in data:\n",
    "    print(item)"
   ]
  },
  {
   "cell_type": "code",
   "execution_count": 17,
   "metadata": {},
   "outputs": [
    {
     "name": "stdout",
     "output_type": "stream",
     "text": [
      "1 2 3 4 5 6 7 8 9 "
     ]
    }
   ],
   "source": [
    "for items in data:\n",
    "    for value in items:\n",
    "        print(value, end =' ')"
   ]
  },
  {
   "cell_type": "code",
   "execution_count": 18,
   "metadata": {},
   "outputs": [
    {
     "name": "stdout",
     "output_type": "stream",
     "text": [
      "in loop\n",
      "Loop closed\n",
      "in loop\n",
      "Loop closed\n",
      "in loop\n",
      "Loop closed\n",
      "in loop\n",
      "Loop closed\n"
     ]
    }
   ],
   "source": [
    "num = int(input('Enter a number:'))\n",
    "while num > 0:\n",
    "    print(\"in loop\")\n",
    "    num -= 1\n",
    "    print(\"Loop closed\")"
   ]
  },
  {
   "cell_type": "code",
   "execution_count": 19,
   "metadata": {},
   "outputs": [],
   "source": [
    "while input(\">>\") == \"y\":\n",
    "    print(\"This is a loop\")"
   ]
  },
  {
   "cell_type": "code",
   "execution_count": 21,
   "metadata": {},
   "outputs": [],
   "source": [
    "while input(\"Add Numbers(Y/N)\") == \"y\":\n",
    "    a = int(input(\"Enter Number 1:\"))\n",
    "    b = int(input(\"Enter Number 2:\"))\n",
    "    print(f'{a} + {b} = {a+b}')"
   ]
  },
  {
   "cell_type": "code",
   "execution_count": 27,
   "metadata": {},
   "outputs": [
    {
     "name": "stdout",
     "output_type": "stream",
     "text": [
      "Your Report:\n",
      "TOTAL: 169\n",
      "PERCENTAGE: 33.8%\n",
      "GRADE: F\n",
      "**********\n"
     ]
    }
   ],
   "source": [
    "while input(\"Calculate Marks\") == \"yes\":\n",
    "    eng = int(input(\"English Mark:\"))\n",
    "    hin = int(input(\"Hindi Marks:\"))\n",
    "    maths = int(input(\"Maths Marks:\"))\n",
    "    sci = int(input(\"Science Marks:\"))\n",
    "    evs = int(input(\"Evs Marks:\"))\n",
    "    total = eng + hin + maths + sci + evs\n",
    "    perc = total / 5\n",
    "    print(\"Your Report:\")\n",
    "    print(f\"TOTAL: {total}\")\n",
    "    print(f\"PERCENTAGE: {perc}%\")\n",
    "    if perc > 80:\n",
    "        grade = \"A\"\n",
    "    elif perc > 60 and perc <=80:\n",
    "        grade = \"B\"\n",
    "    elif perc > 40 and perc <= 60:\n",
    "        grade = \"C\"\n",
    "    else:\n",
    "        grade = \"F\"\n",
    "    print(f\"GRADE: {grade}\")\n",
    "    print(\"*\"* 10)\n",
    "\n",
    "\n",
    "    \n",
    "  \n",
    "\n",
    "\n",
    "\n",
    "\n",
    "\n",
    "\n",
    "    \n",
    "\n",
    "\n",
    "\n",
    "\n",
    "\n",
    "\n"
   ]
  },
  {
   "cell_type": "code",
   "execution_count": null,
   "metadata": {},
   "outputs": [],
   "source": [
    "while True:\n",
    "    name =input(\"enter name of fav fruit\")\n",
    "    if len(name) < 3:\n",
    "        break\n",
    "    print(f\">>{name}\")\n",
    "\n",
    "    \n",
    "\n"
   ]
  },
  {
   "cell_type": "code",
   "execution_count": 26,
   "metadata": {},
   "outputs": [
    {
     "name": "stdout",
     "output_type": "stream",
     "text": [
      "0 amt spend\n"
     ]
    }
   ],
   "source": [
    "total = 0\n",
    "while True:\n",
    "    amt = input(\"enter the amount spend\")\n",
    "    if amt.isnumeric():\n",
    "        amt = int(amt)\n",
    "        if amt < 100:\n",
    "            continue\n",
    "        total += amt\n",
    "    else:\n",
    "        break\n",
    "print(f\"{total} amt spend\")\n",
    "\n",
    "\n",
    "\n"
   ]
  },
  {
   "cell_type": "code",
   "execution_count": 25,
   "metadata": {},
   "outputs": [
    {
     "name": "stdout",
     "output_type": "stream",
     "text": [
      "10 20 30 10 50 220 120 20 "
     ]
    }
   ],
   "source": [
    "x = [10, 20, 30, 0, 10, 50, 0, 220, 0, 120, 0, 20]\n",
    "for i in x:\n",
    "    if i == 0:\n",
    "        continue\n",
    "    print(i,end=\" \")"
   ]
  },
  {
   "cell_type": "code",
   "execution_count": null,
   "metadata": {},
   "outputs": [],
   "source": []
  }
 ],
 "metadata": {
  "interpreter": {
   "hash": "d62006d1f3422635846181a997a61e8ec3049f797e5d7dfe0cd1bb84092b7c19"
  },
  "kernelspec": {
   "display_name": "Python 3.9.7 64-bit",
   "language": "python",
   "name": "python3"
  },
  "language_info": {
   "codemirror_mode": {
    "name": "ipython",
    "version": 3
   },
   "file_extension": ".py",
   "mimetype": "text/x-python",
   "name": "python",
   "nbconvert_exporter": "python",
   "pygments_lexer": "ipython3",
   "version": "3.9.7"
  },
  "orig_nbformat": 4
 },
 "nbformat": 4,
 "nbformat_minor": 2
}
