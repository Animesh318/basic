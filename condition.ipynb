{
 "cells": [
  {
   "cell_type": "code",
   "execution_count": 1,
   "metadata": {},
   "outputs": [],
   "source": [
    "a = 10\n",
    "b = 15"
   ]
  },
  {
   "cell_type": "code",
   "execution_count": 2,
   "metadata": {},
   "outputs": [
    {
     "name": "stdout",
     "output_type": "stream",
     "text": [
      "Amazing answer\n"
     ]
    }
   ],
   "source": [
    "if a < b:\n",
    "    print(\"Amazing answer\")"
   ]
  },
  {
   "cell_type": "code",
   "execution_count": 3,
   "metadata": {},
   "outputs": [],
   "source": [
    "if a > b:\n",
    "    print(\"Amazing answer\")"
   ]
  },
  {
   "cell_type": "code",
   "execution_count": 5,
   "metadata": {},
   "outputs": [
    {
     "name": "stdout",
     "output_type": "stream",
     "text": [
      "the weather is cold\n",
      "I should probably wear a jacket before going out\n"
     ]
    }
   ],
   "source": [
    "temp = float(input(\"enter the temperature in C degree\"))\n",
    "if temp <= 15:\n",
    "    print(\"the weather is cold\")\n",
    "    print(\"I should probably wear a jacket before going out\")"
   ]
  },
  {
   "cell_type": "code",
   "execution_count": 6,
   "metadata": {},
   "outputs": [
    {
     "name": "stdout",
     "output_type": "stream",
     "text": [
      "Not nice at all\n"
     ]
    }
   ],
   "source": [
    "x = 12\n",
    "if x == 13:\n",
    "    print(\"Nice\")\n",
    "else:\n",
    "    print(\"Not nice at all\")\n"
   ]
  },
  {
   "cell_type": "code",
   "execution_count": 7,
   "metadata": {},
   "outputs": [
    {
     "name": "stdout",
     "output_type": "stream",
     "text": [
      "The weather is cold\n",
      "I should probably wear a jacket before going out\n"
     ]
    }
   ],
   "source": [
    "temp = float(input(\"enter the temperature in C degree\"))\n",
    "if temp <= 15:\n",
    "    print(\"The weather is cold\")\n",
    "    print(\"I should probably wear a jacket before going out\")\n",
    "else:\n",
    "    print(\"The weather seems ok\")\n",
    "    print(\"I should buy pizza to eat\")"
   ]
  },
  {
   "cell_type": "code",
   "execution_count": 9,
   "metadata": {},
   "outputs": [
    {
     "name": "stdout",
     "output_type": "stream",
     "text": [
      "You are an adult\n"
     ]
    }
   ],
   "source": [
    "age = int(input(\"enter your age\"))\n",
    "if age <= 10:\n",
    "    print(\"You are a kid\")\n",
    "elif age >= 11 and age <= 20:\n",
    "    print(\"You are teenager\")\n",
    "elif age >= 21 and age <= 60 :\n",
    "    print(\"You are an adult\")\n",
    "elif age >=61 and age <=100:\n",
    "    print(\"You are old\")\n",
    "else:\n",
    "    print(\"This program is meant for humans\")\n",
    "\n",
    "\n"
   ]
  },
  {
   "cell_type": "code",
   "execution_count": 11,
   "metadata": {},
   "outputs": [],
   "source": [
    "color = input(\"color:\")\n",
    "shape = input('shape(long/round) :')\n",
    "if color == \"Yellow\":\n",
    "    if shape == \"long\":\n",
    "        print(\"The fruit u ar looking is banana\")\n",
    "    elif shape == \"round\":\n",
    "        print(\"The fruit is MUSKMELLON\")\n",
    "if color == \"Green\":\n",
    "    if shape == \"round\":\n",
    "        print(\"The fruit can be grape\")\n",
    "    elif shape == \"long\":\n",
    "        print(\" i dont know\")\n",
    "    else:\n",
    "        print(\"is this a vegetable\")\n",
    "\n",
    "\n"
   ]
  },
  {
   "cell_type": "code",
   "execution_count": 12,
   "metadata": {},
   "outputs": [
    {
     "name": "stdout",
     "output_type": "stream",
     "text": [
      "Name is ok\n"
     ]
    }
   ],
   "source": [
    "name = input(\"enter your name:\")\n",
    "if len(name) > 10:\n",
    "    print(\"name is too big\")\n",
    "else:\n",
    "    print(\"Name is ok\")"
   ]
  },
  {
   "cell_type": "code",
   "execution_count": 13,
   "metadata": {},
   "outputs": [
    {
     "name": "stdout",
     "output_type": "stream",
     "text": [
      "Great\n"
     ]
    }
   ],
   "source": [
    "if a > 5: print('Great')"
   ]
  }
 ],
 "metadata": {
  "interpreter": {
   "hash": "d62006d1f3422635846181a997a61e8ec3049f797e5d7dfe0cd1bb84092b7c19"
  },
  "kernelspec": {
   "display_name": "Python 3.9.7 64-bit",
   "language": "python",
   "name": "python3"
  },
  "language_info": {
   "codemirror_mode": {
    "name": "ipython",
    "version": 3
   },
   "file_extension": ".py",
   "mimetype": "text/x-python",
   "name": "python",
   "nbconvert_exporter": "python",
   "pygments_lexer": "ipython3",
   "version": "3.9.7"
  },
  "orig_nbformat": 4
 },
 "nbformat": 4,
 "nbformat_minor": 2
}
